{
 "cells": [
  {
   "cell_type": "code",
   "execution_count": 10,
   "metadata": {},
   "outputs": [],
   "source": [
    "from langchain.document_loaders import PyPDFLoader\n",
    "from langchain.text_splitter import RecursiveCharacterTextSplitter\n",
    "from langchain.embeddings import HuggingFaceEmbeddings\n",
    "from langchain.vectorstores import FAISS\n",
    "from langchain.llms import HuggingFacePipeline\n",
    "from langchain.chains import RetrievalQA\n",
    "from transformers import AutoTokenizer, AutoModelForSeq2SeqLM, pipeline\n",
    "import os\n",
    "import sys"
   ]
  },
  {
   "cell_type": "markdown",
   "metadata": {},
   "source": [
    "# Document Loading"
   ]
  },
  {
   "cell_type": "code",
   "execution_count": 11,
   "metadata": {},
   "outputs": [],
   "source": [
    "# === 1. Charger tous les PDF depuis le dossier \"dataset/\" ===\n",
    "pdf_dir = \"dataset\"\n",
    "loaders = []\n",
    "for filename in os.listdir(pdf_dir):\n",
    "    if filename.endswith(\".pdf\"):\n",
    "        loaders.append(PyPDFLoader(os.path.join(pdf_dir, filename)))"
   ]
  },
  {
   "cell_type": "code",
   "execution_count": 12,
   "metadata": {},
   "outputs": [],
   "source": [
    "# Charger les documents\n",
    "docs = []\n",
    "for loader in loaders:\n",
    "    docs.extend(loader.load())"
   ]
  },
  {
   "cell_type": "code",
   "execution_count": 13,
   "metadata": {},
   "outputs": [],
   "source": [
    "# === 2. Découpage des documents ===\n",
    "text_splitter = RecursiveCharacterTextSplitter(chunk_size=1000, chunk_overlap=150)\n",
    "split_docs = text_splitter.split_documents(docs)"
   ]
  },
  {
   "cell_type": "code",
   "execution_count": 14,
   "metadata": {},
   "outputs": [],
   "source": [
    "# === 3. Création des embeddings + index FAISS ===\n",
    "embedding_model = \"sentence-transformers/all-MiniLM-l6-v2\"\n",
    "embeddings = HuggingFaceEmbeddings(\n",
    "    model_name=embedding_model,\n",
    "    model_kwargs={'device': 'cpu'},\n",
    "    encode_kwargs={'normalize_embeddings': False}\n",
    ")\n",
    "db = FAISS.from_documents(split_docs, embeddings)"
   ]
  },
  {
   "cell_type": "code",
   "execution_count": null,
   "metadata": {},
   "outputs": [
    {
     "name": "stderr",
     "output_type": "stream",
     "text": [
      "Device set to use cuda:0\n"
     ]
    }
   ],
   "source": [
    "# === 4. Chargement du LLM génératif (type Seq2Seq) ===\n",
    "llm_model_name = \"google/flan-t5-base\"  # Peut être remplacé par un autre modèle génératif\n",
    "tokenizer = AutoTokenizer.from_pretrained(llm_model_name)\n",
    "model = AutoModelForSeq2SeqLM.from_pretrained(llm_model_name)\n",
    "\n",
    "text_generation_pipeline = pipeline(\n",
    "    \"text2text-generation\",\n",
    "    model=model,\n",
    "    tokenizer=tokenizer,\n",
    "    max_length=512,\n",
    "    do_sample=True,            # Active sampling\n",
    "    temperature=0.7,           # Maintenant pris en compte\n",
    "    repetition_penalty=1.1     # Bonus\n",
    ")\n",
    "\n",
    "\n",
    "llm = HuggingFacePipeline(pipeline=text_generation_pipeline)"
   ]
  },
  {
   "cell_type": "code",
   "execution_count": 16,
   "metadata": {},
   "outputs": [],
   "source": [
    "# === 5. Mise en place du RAG avec RetrievalQA ===\n",
    "retriever = db.as_retriever(search_kwargs={\"k\": 4})\n",
    "\n",
    "#qa_chain = RetrievalQA.from_chain_type(\n",
    "#    llm=llm,\n",
    "#    chain_type=\"stuff\",  # \"stuff\" : met tous les documents dans le prompt\n",
    "#    retriever=retriever,\n",
    "#    #return_source_documents=False\n",
    "#)\n",
    "qa_chain = RetrievalQA.from_chain_type(\n",
    "    llm=llm,\n",
    "    chain_type=\"stuff\",\n",
    "    retriever=retriever,\n",
    "    return_source_documents=True,   # ← utile pour debug\n",
    "    verbose=True                    # ← active l’affichage des prompts\n",
    ")\n",
    "\n"
   ]
  },
  {
   "cell_type": "code",
   "execution_count": 17,
   "metadata": {},
   "outputs": [
    {
     "name": "stderr",
     "output_type": "stream",
     "text": [
      "Token indices sequence length is longer than the specified maximum sequence length for this model (659 > 512). Running this sequence through the model will result in indexing errors\n"
     ]
    },
    {
     "name": "stdout",
     "output_type": "stream",
     "text": [
      "\n",
      "\n",
      "\u001b[1m> Entering new RetrievalQA chain...\u001b[0m\n",
      "\n",
      "\u001b[1m> Finished chain.\u001b[0m\n",
      "\n",
      "Réponse générée :\n",
      " WORLD DOMINATION RISK\n"
     ]
    }
   ],
   "source": [
    "# === 6. Question posée à ton RAG + LLM ===\n",
    "question = \"What is the name of the game?\"\n",
    "\n",
    "def err_remove(er):\n",
    "    lin = \"------------\"\n",
    "    er = str(er)\n",
    "    start_index = er.find(lin) + len(lin)\n",
    "    end_index = er.rfind(lin)\n",
    "    Answer = er[start_index:end_index].strip()\n",
    "    return Answer\n",
    "\n",
    "try:\n",
    "    result = qa_chain.invoke({\"query\": question})\n",
    "    print(\"\\nRéponse générée :\\n\", result[\"result\"])\n",
    "except:\n",
    "    _, error, _ = sys.exc_info()\n",
    "    answer = err_remove(error)\n",
    "    print(answer)"
   ]
  },
  {
   "cell_type": "code",
   "execution_count": 18,
   "metadata": {},
   "outputs": [
    {
     "name": "stdout",
     "output_type": "stream",
     "text": [
      "\n",
      "--- Document 1 ---\n",
      "tournament, write to us at the address below.\n",
      "We will be happy to answer questions about this game. Write: Consumer\n",
      "Relations Department, Parker Brothers, P.O. Box 1012, Beverly, MA 01915.\n",
      "“F!HPARKERBROTHERS\n",
      "00044-I \n",
      "Rl\n",
      "16\n",
      "\n",
      "--- Document 2 ---\n",
      "WORLD DOMINATION RISK®\n",
      "OBJECT OF THE GAME\n",
      "To conquer the world by occupying every territory on the board, thus\n",
      "eliminating all your opponents.\n",
      "SETUP\n",
      "Unlike most games, RISK demands careful planning before you actually\n",
      "start to play. This Initial Army Placement sets the stage for the battles you ’ll\n",
      "fight later on.\n",
      "INITIAL ARMY PLACEMENT  consists of these steps:\n",
      "1.\n",
      "2.\n",
      "3.\n",
      "4.\n",
      "Select a color and, depending on the number of players, count out the\n",
      "“ armies” you ’ll need to start the game.\n",
      "If 2 are playing, see instructions on page 11.\n",
      "If 3 are playing, each player counts out 35 Infantry.\n",
      "If 4 are playing, each player counts out 30 Infantry.\n",
      "If 5 are playing, each player counts out 25 Infantry.\n",
      "If 6 are playing, each player counts out 20 Infantry.\n",
      "Roll one die. Whoever rolls the highest number takes one Infantry piece\n",
      "from his or her pile and places it onto any territory on the board, thus\n",
      "claiming that territory.\n",
      "Starting to the left of the first player, everyone in turn places one army\n",
      "\n",
      "--- Document 3 ---\n",
      "Fortify borders adjacent to enemy territories for better defense if a\n",
      "neighbor decides to attack you.\n",
      "EQUIPMENT\n",
      "1 Tri-fold Game Boar d l 5 Dice: 2 white and 3 re d l Deck of 56 RISK cards\n",
      "l 6 Sets of armies, each a different color\n",
      "The Game Board. The game board is a map of 6 continents divided into\n",
      "42 territories. Each continent is a different color and contains from 4 to  12\n",
      "territories. The numbers along the bottom (southern) edge of the board\n",
      "indicate the number of armies you will receive for a set of cards you trade\n",
      "in, as explained on page 7.\n",
      "\n",
      "--- Document 4 ---\n",
      "TABLE OF CONTENTS\n",
      "Introduction & Strategy Hint s ....................................................................... 3\n",
      "Equipment ....................................................................................................... 3\n",
      "RISK®, the classic WORLD DOMINATION game ........................ 5\n",
      "Setup, including initial placement of armie s .................................. 5\n",
      "Playing ................................................................................................ .6\n",
      "Getting and placing new armie s ....................................................... 6\n",
      "RISK cards ............................................................................................ 7\n",
      "Attacking ........................................................................................... . 8\n",
      "Determining the winner of the dice rol l .......................................... 9\n",
      "Fortifying your positio n ................................................................... 10\n"
     ]
    }
   ],
   "source": [
    "docs = retriever.get_relevant_documents(question)\n",
    "for i, doc in enumerate(docs):\n",
    "    print(f\"\\n--- Document {i+1} ---\\n{doc.page_content}\")\n"
   ]
  }
 ],
 "metadata": {
  "kernelspec": {
   "display_name": "transformers3",
   "language": "python",
   "name": "transformers3"
  },
  "language_info": {
   "codemirror_mode": {
    "name": "ipython",
    "version": 3
   },
   "file_extension": ".py",
   "mimetype": "text/x-python",
   "name": "python",
   "nbconvert_exporter": "python",
   "pygments_lexer": "ipython3",
   "version": "3.10.8"
  }
 },
 "nbformat": 4,
 "nbformat_minor": 2
}
